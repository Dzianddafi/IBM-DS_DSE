{
 "cells": [
  {
   "cell_type": "markdown",
   "id": "80b413c7",
   "metadata": {},
   "source": [
    "# Data Science Tools and Ecosystem"
   ]
  },
  {
   "cell_type": "markdown",
   "id": "6a5ab4f9",
   "metadata": {},
   "source": [
    "In this notebook, Data Science Tools and Ecosystem are summarized."
   ]
  },
  {
   "cell_type": "markdown",
   "id": "968226e0",
   "metadata": {},
   "source": [
    "Some of the popular languages that Data Scientists use are:  \n",
    "1. Python  \n",
    "2. SQL  \n",
    "3. R"
   ]
  },
  {
   "cell_type": "markdown",
   "id": "7ed5282d",
   "metadata": {},
   "source": [
    "Some of the commonly used libraries used by Data Scientists include:  \n",
    "1. Scikit-learn  \n",
    "2. Numpy  \n",
    "3. TensorFlow"
   ]
  },
  {
   "cell_type": "markdown",
   "id": "c53dcc87",
   "metadata": {},
   "source": [
    "# Data Science Tools  \n",
    "  \n",
    "| Tools |  \n",
    "| --- |\n",
    "| TensorFlow |  \n",
    "| RStudio |  \n",
    "| Apache Spark|  "
   ]
  },
  {
   "cell_type": "markdown",
   "id": "164e15d7",
   "metadata": {},
   "source": [
    "### Below are a few examples of evaluating arithmetic expressions in Python"
   ]
  },
  {
   "cell_type": "code",
   "execution_count": 9,
   "id": "7e7a733a",
   "metadata": {},
   "outputs": [
    {
     "data": {
      "text/plain": [
       "17"
      ]
     },
     "execution_count": 9,
     "metadata": {},
     "output_type": "execute_result"
    }
   ],
   "source": [
    "# This a simple arithmetic expression to mutiply then add integers\n",
    "(3*4)+5"
   ]
  },
  {
   "cell_type": "code",
   "execution_count": 8,
   "id": "dcb311a2",
   "metadata": {},
   "outputs": [
    {
     "data": {
      "text/plain": [
       "3.3333333333333335"
      ]
     },
     "execution_count": 8,
     "metadata": {},
     "output_type": "execute_result"
    }
   ],
   "source": [
    "# This will convert 200 minutes to hours by diving by 60\n",
    "200/60"
   ]
  },
  {
   "cell_type": "markdown",
   "id": "f49a0ded",
   "metadata": {},
   "source": [
    "**Objectives:**  \n",
    "- List of popular data science tools  \n",
    "- List of commonly used libraries for data science\n",
    "- Examples of basic arithmetic expressions"
   ]
  },
  {
   "cell_type": "markdown",
   "id": "ec3ff358",
   "metadata": {},
   "source": [
    "## Author  \n",
    "Dziand D G"
   ]
  },
  {
   "cell_type": "code",
   "execution_count": null,
   "id": "35109380",
   "metadata": {},
   "outputs": [],
   "source": []
  }
 ],
 "metadata": {
  "kernelspec": {
   "display_name": "Python 3 (ipykernel)",
   "language": "python",
   "name": "python3"
  },
  "language_info": {
   "codemirror_mode": {
    "name": "ipython",
    "version": 3
   },
   "file_extension": ".py",
   "mimetype": "text/x-python",
   "name": "python",
   "nbconvert_exporter": "python",
   "pygments_lexer": "ipython3",
   "version": "3.11.5"
  }
 },
 "nbformat": 4,
 "nbformat_minor": 5
}
